{
  "cells": [
    {
      "cell_type": "code",
      "execution_count": null,
      "metadata": {
        "id": "Rr37bOKhO0zl"
      },
      "outputs": [],
      "source": [
        "from bs4 import BeautifulSoup as bs\n",
        "import requests\n",
        "import urllib.request\n",
        "\n",
        "  \n",
        "HEADERS = ({'User-Agent':\n",
        "           'Mozilla/5.0 (Macintosh; Intel Mac OS X 10_15_7) AppleWebKit/537.36 (KHTML, like Gecko) Chrome/92.0.4515.159 Safari/537.36',\n",
        "                           'Accept-Language': 'en-US, en;q=0.5'})\n",
        "\n",
        "def getNames(soup):\n",
        "  names = []\n",
        "  names= soup.find_all('span',class_='a-profile-name')\n",
        "  for i in range(2,len(names)):\n",
        "    name = names[i].get_text()\n",
        "    if isinstance(name, str):\n",
        "      names.append(name)\n",
        "  return names\n",
        "\n",
        "def getTitle(soup):\n",
        "  titles = []\n",
        "  title = soup.find_all('a',class_='review-title-content')\n",
        "  for i in range(0,len(title)):\n",
        "    tit = title[i].get_text()\n",
        "    if tit is None:\n",
        "      tit = ''\n",
        "    titles.append(tit)\n",
        "  titles[:] = [titles.lstrip('\\n') for titles in titles] \n",
        "  titles[:] = [titles.rstrip('\\n') for titles in titles]\n",
        "  return titles\n",
        "\n",
        "def getRating(soup):\n",
        "  ratings = []\n",
        "  rating = soup.find_all('i',class_='review-rating') \n",
        "  for i in range(2,len(rating)):\n",
        "    tit = rating[i].get_text()\n",
        "    if tit is None:\n",
        "      tit = ''\n",
        "    ratings.append(tit)\n",
        "  return ratings\n",
        "\n",
        "def getReview_text(soup):\n",
        "  texts = []\n",
        "  review_text= soup.find_all('span',class_='review-text-content') \n",
        "  for i in range(0,len(review_text)):\n",
        "    tit = review_text[i].get_text()\n",
        "    if tit is None:\n",
        "      tit = ''\n",
        "    texts.append(tit)\n",
        "    texts[:] = [reviews.lstrip('\\n') for reviews in texts]  \n",
        "    texts[:] = [reviews.rstrip('\\n') for reviews in texts]\n",
        "  return texts\n",
        "\n",
        "def getReviewDate(soup):\n",
        "  dates = []\n",
        "  review_date = soup.find_all('span',class_='review-date')\n",
        "  for i in range(2,len(review_date)):\n",
        "    tit = review_date[i].get_text()\n",
        "    if tit is None:\n",
        "      tit = ''\n",
        "    dates.append(tit)\n",
        "  return dates\n",
        "\n",
        "def scrape():\n",
        "  user_name=[]\n",
        "  review_title=[]\n",
        "  ratings=[]\n",
        "  review_text=[]\n",
        "  review_dates=[]\n",
        "  for number in range(1,501):\n",
        "    link= 'https://www.amazon.com/Blink-Mini-Security-Camera-2-Pack/product-reviews/B07X27VK3D/ref=cm_cr_arp_d_paging_btm_next_501?ie=UTF8&reviewerType=all_reviews&pageNumber='+ str(number)\n",
        "    webpage = requests.get(link, headers=HEADERS)\n",
        "    soup = bs(webpage.content,'html.parser')\n",
        "    with open(\"/content/sample_data/BlinkMiniSecurity/\" + \"reviews\" + str(number) + \".html\", \"w\") as file:\n",
        "      file.write(str(soup))\n",
        "\n",
        "    nameList = getNames(soup)\n",
        "    user_name.extend(nameList)\n",
        "\n",
        "    titleList = getTitle(soup)\n",
        "    review_title.extend(titleList)\n",
        "   \n",
        "\n",
        "    ratingsList = getRating(soup) \n",
        "    ratings.extend(ratingsList)\n",
        "    \n",
        "    reviewtextList = getReview_text(soup)\n",
        "    review_text.extend(reviewtextList)\n",
        "    \n",
        "\n",
        "    datesList = getReviewDate(soup)\n",
        "    review_dates.extend(datesList)\n",
        "\n",
        "  print(len(user_name))\n",
        "  print(len(review_title))\n",
        "  print(len(ratings))\n",
        "  print(len(review_text))\n",
        "  print(len(review_dates))\n",
        "  return (user_name, review_title, ratings, review_text, review_dates)\n",
        "    "
      ]
    },
    {
      "cell_type": "code",
      "execution_count": null,
      "metadata": {
        "colab": {
          "base_uri": "https://localhost:8080/"
        },
        "id": "6Ds_FvU-RnjN",
        "outputId": "64a22c9d-1e67-48e2-864b-29cf8e36b2db"
      },
      "outputs": [
        {
          "output_type": "stream",
          "name": "stdout",
          "text": [
            "11502\n",
            "5000\n",
            "5000\n",
            "5000\n",
            "5000\n"
          ]
        }
      ],
      "source": [
        "reviewTuple = scrape()"
      ]
    },
    {
      "cell_type": "code",
      "execution_count": null,
      "metadata": {
        "id": "8nymdNU_dYFn"
      },
      "outputs": [],
      "source": [
        "newList = []\n",
        "for review in reviewTuple[0]:\n",
        "  if isinstance(review, str):\n",
        "      newList.append(review)"
      ]
    },
    {
      "cell_type": "code",
      "execution_count": null,
      "metadata": {
        "id": "chAzLIqdglWb"
      },
      "outputs": [],
      "source": [
        "user_name=newList\n",
        "review_title=reviewTuple[1]\n",
        "ratings=reviewTuple[2]\n",
        "review_text=reviewTuple[3]\n",
        "review_dates=reviewTuple[4]"
      ]
    },
    {
      "cell_type": "code",
      "execution_count": null,
      "metadata": {
        "colab": {
          "base_uri": "https://localhost:8080/"
        },
        "id": "rRuhxcv5jvGI",
        "outputId": "8d915639-0dfa-44ad-a87b-e29402b31e98"
      },
      "outputs": [
        {
          "output_type": "stream",
          "name": "stdout",
          "text": [
            "5251\n"
          ]
        }
      ],
      "source": [
        "print(len(newList))"
      ]
    },
    {
      "cell_type": "code",
      "execution_count": null,
      "metadata": {
        "id": "YkZAV-1rgUA7",
        "colab": {
          "base_uri": "https://localhost:8080/"
        },
        "outputId": "9e4eb5b1-e471-4c98-f4c1-316ba590acaf"
      },
      "outputs": [
        {
          "output_type": "stream",
          "name": "stdout",
          "text": [
            "     User Name                                       Review Title  \\\n",
            "0        Haley                                    One major flaw.   \n",
            "1          Ben  UPDATED: Confusing cloud storage policy on the...   \n",
            "2        Wcouv  Great cameras - Rushed app that is missing key...   \n",
            "3        Grant                        Still missing key features!   \n",
            "4        Grant   NOT FOR HOME SECURITY!!!!!!!!! (Updated 5/12/20)   \n",
            "5   Matt Smith                          Useless toy nothing else.   \n",
            "6   Matt Smith                     Easy set up but app is lacking   \n",
            "7       Johnny                   Easy to install only took 5 min!   \n",
            "8       Johnny  Vendor changes terms and FORCES monthly storag...   \n",
            "9  A. Reynolds                “LIVE VIEW FAILED” error constantly   \n",
            "\n",
            "                                         Review Text                Star  \\\n",
            "0    I bought this to use as a baby monitor, thin...  2.0 out of 5 stars   \n",
            "1    UPDATED: When I saw these smaller cameras an...  4.0 out of 5 stars   \n",
            "2    I pre-ordered 4 cameras without any reviews ...  3.0 out of 5 stars   \n",
            "3                      The media could not be loa...  2.0 out of 5 stars   \n",
            "4                      The media could not be loa...  2.0 out of 5 stars   \n",
            "5    This camera has zero features as far as ”sec...  1.0 out of 5 stars   \n",
            "6    I’m a Blink XT user with three cameras on th...  5.0 out of 5 stars   \n",
            "7    I love this lil camera!! Easy to install! On...  5.0 out of 5 stars   \n",
            "8    When I originally bought my EIGHT Blink came...  1.0 out of 5 stars   \n",
            "9    I wanted to love these. I ordered 2, the pri...  1.0 out of 5 stars   \n",
            "\n",
            "                                Review posted time  \n",
            "0  Reviewed in the United States on April 18, 2020  \n",
            "1  Reviewed in the United States on April 17, 2020  \n",
            "2  Reviewed in the United States on April 17, 2020  \n",
            "3  Reviewed in the United States on April 17, 2020  \n",
            "4  Reviewed in the United States on April 28, 2020  \n",
            "5   Reviewed in the United States on June 22, 2020  \n",
            "6  Reviewed in the United States on April 17, 2020  \n",
            "7  Reviewed in the United States on April 17, 2020  \n",
            "8    Reviewed in the United States on May 23, 2021  \n",
            "9    Reviewed in the United States on May 29, 2020  \n"
          ]
        }
      ],
      "source": [
        "import pandas as pd\n",
        "df=pd.DataFrame()\n",
        "df['User Name']=user_name[0:len(review_title)]\n",
        "df['Review Title'] = review_title\n",
        "df['Review Text']=review_text[0:len(review_title)]\n",
        "df['Star']=ratings[0:len(review_title)]\n",
        "df['Review posted time']=review_dates[0:len(review_title)]\n",
        "print(df.head(10))\n",
        "df.to_csv(\"/content/sample_data/BlinkMiniSecurity.csv\")"
      ]
    },
    {
      "cell_type": "code",
      "execution_count": null,
      "metadata": {
        "id": "v7hafZ53dz5J",
        "colab": {
          "base_uri": "https://localhost:8080/"
        },
        "outputId": "6bf5a1fb-be27-44cf-94e9-b44242afa3d3"
      },
      "outputs": [
        {
          "output_type": "stream",
          "name": "stdout",
          "text": [
            "\tzip warning: name not matched: /content/sample_data/EBlinkVideo\n",
            "\n",
            "zip error: Nothing to do! (try: zip -r /content/sample_data/BlinkVideo.zip . -i /content/sample_data/EBlinkVideo)\n"
          ]
        }
      ],
      "source": [
        "!zip -r '/content/sample_data/BlinkVideo.zip' '/content/sample_data/EBlinkVideo'"
      ]
    },
    {
      "cell_type": "code",
      "execution_count": null,
      "metadata": {
        "id": "jkvMuganxEqO"
      },
      "outputs": [],
      "source": [
        "from google.colab import files\n",
        "files.download(\"/content/sample_data/ECHOShow8.zip\")"
      ]
    }
  ],
  "metadata": {
    "colab": {
      "collapsed_sections": [],
      "name": "Amazon_WebScrapping.ipynb",
      "provenance": []
    },
    "kernelspec": {
      "display_name": "Python 3",
      "name": "python3"
    },
    "language_info": {
      "name": "python"
    }
  },
  "nbformat": 4,
  "nbformat_minor": 0
}