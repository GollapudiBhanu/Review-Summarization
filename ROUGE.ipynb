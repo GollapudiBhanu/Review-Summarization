{
 "cells": [
  {
   "cell_type": "code",
   "execution_count": 5,
   "metadata": {},
   "outputs": [],
   "source": [
    "from datasets import load_metric"
   ]
  },
  {
   "cell_type": "code",
   "execution_count": 6,
   "metadata": {},
   "outputs": [],
   "source": [
    "rouge = load_metric(\"rouge\")"
   ]
  },
  {
   "cell_type": "markdown",
   "metadata": {},
   "source": [
    "## BlinkMini positive"
   ]
  },
  {
   "cell_type": "code",
   "execution_count": 7,
   "metadata": {},
   "outputs": [],
   "source": [
    "references_blinkmini_pos = [\"It barely took a minute and it works perfectly!! Because they use the same software as the blink xt cameras, they are simple to set up and operate. When it works, motion detection is quite sensitive, and we receive quick notifications. I'll say it's excellent in picking up voice and audio! I have mine on the windowsill facing out, so perhaps the netting over the window contributes to the problem. It also does not always turn off for motion detection. We wanted to use it as a baby monitor, but it makes an unpleasant clicking sound every time you toggle the live view on and off. Even in night vision mode, the camera outperforms the more costly cameras I've had. This little camera is powerful, with superb image and coverage; I installed it in my garage and can see both the rear and front entrances going into my inside door. The sound is also very good and clear. However, the black and white at night is perfectly capable of detecting shadow individuals wandering about your belongings. This small camera was a breeze to set up. I appreciate that you may disarm it from your phone at any time. I already have cameras outdoors and have this one installed in my kitchen. It connects to the time I've previously set up, and the visual and sound quality are superb. This is an excellent system. Overall, it's worth it for me because I can now check on my printer without having to travel home. My room is visible in the photo. For the price, the camera is an excellent purchase. I work from home but need to be quiet, so this is how I keep an eye on my kids while they are in the living room without me. These are of high quality, however, you can't keep an eye on the camera all the time. It truly is a little camera with enormous quality. The ring is a superior, simpler, and more effective approach.\"]"
   ]
  },
  {
   "cell_type": "code",
   "execution_count": 8,
   "metadata": {},
   "outputs": [],
   "source": [
    "prediction_blinkmini_pos = [\"only took  min and it works great!! easy to set up and use because they use the same app as the blink xt cameras. when it does work, the motion detection is highly sensitive and we get immediate alerts. i will say, it is very good about picking up voice and audio! i have mine in the windowsill facing out so maybe the netting over the window makes it bad also it doesnt always go off for motion detection. we had intended to use it as a baby monitor but it has a very obnoxious clicking sound every time you turn on and off the live view. even in night vision mode the camera is better than more expensive cameras ive purchased. this small camera is mighty, excellent picture and coverage, i put it in my garage and i can see both the rear and front entrance leading into my interior door. the sound is also excellent and clear. but the black and white at night is still perfectly able to spot shadow people walking around your things. honestly this little camera was a cinch to set up. i like that you can disarm it when you want from your phone. i already have  cameras outside and added this one in my kitchen.it links with the time i already set up, the image and sound quality is excellent.this is a wonderful system. overall it is well worth it for me since now i can see how my printer is doing without having to go home and check it. picture is super clear and easy to see my room. the camera is a great buy for the price. i work from home but need to remain in the quiet while im working, so this is how i keep an eye on my kids while theyre in the living room without me. these are good quality but you cant constantly monitor the camera. it really is a small camera with huge quality. ring is a much better, easier and more effective system.\"]"
   ]
  },
  {
   "cell_type": "code",
   "execution_count": 9,
   "metadata": {},
   "outputs": [
    {
     "data": {
      "text/plain": [
       "{'rouge1': AggregateScore(low=Score(precision=0.7397660818713451, recall=0.7463126843657817, fmeasure=0.7430249632892805), mid=Score(precision=0.7397660818713451, recall=0.7463126843657817, fmeasure=0.7430249632892805), high=Score(precision=0.7397660818713451, recall=0.7463126843657817, fmeasure=0.7430249632892805)),\n",
       " 'rouge2': AggregateScore(low=Score(precision=0.46920821114369504, recall=0.47337278106508873, fmeasure=0.47128129602356406), mid=Score(precision=0.46920821114369504, recall=0.47337278106508873, fmeasure=0.47128129602356406), high=Score(precision=0.46920821114369504, recall=0.47337278106508873, fmeasure=0.47128129602356406)),\n",
       " 'rougeL': AggregateScore(low=Score(precision=0.631578947368421, recall=0.6371681415929203, fmeasure=0.6343612334801763), mid=Score(precision=0.631578947368421, recall=0.6371681415929203, fmeasure=0.6343612334801763), high=Score(precision=0.631578947368421, recall=0.6371681415929203, fmeasure=0.6343612334801763)),\n",
       " 'rougeLsum': AggregateScore(low=Score(precision=0.631578947368421, recall=0.6371681415929203, fmeasure=0.6343612334801763), mid=Score(precision=0.631578947368421, recall=0.6371681415929203, fmeasure=0.6343612334801763), high=Score(precision=0.631578947368421, recall=0.6371681415929203, fmeasure=0.6343612334801763))}"
      ]
     },
     "execution_count": 9,
     "metadata": {},
     "output_type": "execute_result"
    }
   ],
   "source": [
    "rouge.compute(predictions = prediction_blinkmini_pos, references = references_blinkmini_pos)"
   ]
  },
  {
   "cell_type": "code",
   "execution_count": null,
   "metadata": {},
   "outputs": [],
   "source": []
  },
  {
   "cell_type": "markdown",
   "metadata": {},
   "source": [
    "## BlinkMini Negative"
   ]
  },
  {
   "cell_type": "code",
   "execution_count": 10,
   "metadata": {},
   "outputs": [],
   "source": [
    "references_blinkmini_neg = [\"I got this to use as a baby monitor, figuring that if the quality was acceptable, I'd get an outdoor setting as well. I've been able to watch live feeds in a multipane style for years and pick which camera I want to zoom in on, but not with this program. Second, technical help is, at best, mediocre. After many minutes on the phone, I was told that they needed me to reset the camera again due to my internet connection. It's small and wired, so I keep it in the entertainment center to avoid having to deal with the cord. I purchased this and used it for one month before discontinuing use. Another huge problem for me is that there are no choices for permanently zooming in on the camera. There is a way to store the video snippets on your phone, and now that I know how, that is what I do. Overall, the disadvantage is all my fault, not that of the software. I'm not very impressed after a few days. The good blink provides a free day trial after activating your camera, which is plenty of time to utilize and figure out the camera's functions. I cautioned her that she should return it, but it is such a minor inconvenience. My camera captured a person approaching my house to ring the doorbell, but I wasn't home. I didn't read up on one issue before purchasing this: you receive a day free trial for the video in the cloud storage, after which it will no longer record video. Logging in to access the feed does not always operate properly or at all. They lack the voice sound that I enjoyed on the blink. I'll be seeking another camera brand. And, guess what? It's catching motion left and right, but I can't see it since I'm not paying for the service. I've had a blink setup for about a year and the system is only somewhat satisfactory. The camera is not locked because I can get a live view. So it now just tells me there was movement, but I can't see what it was because it doesn't store past motions. Your android phone does not enable live viewing of the blink mini. It is only a few feet away from the router and cannot pick up the wifi signal. I read about the camera and reviews, but I never saw that you need to purchase a plan to record anything.\"]"
   ]
  },
  {
   "cell_type": "code",
   "execution_count": 11,
   "metadata": {},
   "outputs": [],
   "source": [
    "prediction_blinkmini_neg = [\"i bought this to use as a baby monitor, thinking if the quality was good i would end up purchasing an outdoor set as well. for years i have been able to see live feeds in a multipane format and select the camera i want to zoom in on that one, not with this app.second, tech support is, at best, not good. i was told after  minutes on the phone again, all of this occurring in the same hour, that they wanted me to reset the camera again because of my internet. its compact and wired so i have it just sitting on the entertainment center to not deal with the wire being in the way. i bought this and stopped using it after one month. also a really big no for me is that they have no options for setting the camera at a permanent zoomed setting. there is a way to save the video clips to your phone and i know how to do this now, so thats what i do.overall the downside is just my fault, not the apps fault. days into it, i am really not all that impressed.the goodblink offers a free  day trial upon activating your camera, which is plenty time to use and figure out the features of the camera. i warned her she should return it but it is just  so small loss. my camera picked up a person coming to my door to ring the bell but i wasnt home. i did not read up on one thing before i bought this you get a  day free trial for the videointhecloud storage, after the free trial it will not record video. login to view the feed and it does not work right or at all half the time. they do not have the voicesound which i liked on the blink. i will be looking for another brand of cameras. and what do you know, it is capturing motion left and right, but i cannot view it because i am not paying for the service.ive had a blink setup for about a year and the system is ok at best. the camera itself is not locked up because i can go into live view. so now it only lets me know there was movement, i cannot see what it was because it does not save previous movements. live view of the blink mini is not supported from your android phone. no more than  feet from the router and it cannot pick up the wifi signal. i read about the camera and reviews, but never saw that you are required to buy a plan in order to have any kind of recording.\"]"
   ]
  },
  {
   "cell_type": "code",
   "execution_count": 12,
   "metadata": {},
   "outputs": [
    {
     "data": {
      "text/plain": [
       "{'rouge1': AggregateScore(low=Score(precision=0.6909492273730684, recall=0.7330210772833724, fmeasure=0.7113636363636364), mid=Score(precision=0.6909492273730684, recall=0.7330210772833724, fmeasure=0.7113636363636364), high=Score(precision=0.6909492273730684, recall=0.7330210772833724, fmeasure=0.7113636363636364)),\n",
       " 'rouge2': AggregateScore(low=Score(precision=0.39823008849557523, recall=0.4225352112676056, fmeasure=0.41002277904328016), mid=Score(precision=0.39823008849557523, recall=0.4225352112676056, fmeasure=0.41002277904328016), high=Score(precision=0.39823008849557523, recall=0.4225352112676056, fmeasure=0.41002277904328016)),\n",
       " 'rougeL': AggregateScore(low=Score(precision=0.5960264900662252, recall=0.6323185011709602, fmeasure=0.6136363636363635), mid=Score(precision=0.5960264900662252, recall=0.6323185011709602, fmeasure=0.6136363636363635), high=Score(precision=0.5960264900662252, recall=0.6323185011709602, fmeasure=0.6136363636363635)),\n",
       " 'rougeLsum': AggregateScore(low=Score(precision=0.5960264900662252, recall=0.6323185011709602, fmeasure=0.6136363636363635), mid=Score(precision=0.5960264900662252, recall=0.6323185011709602, fmeasure=0.6136363636363635), high=Score(precision=0.5960264900662252, recall=0.6323185011709602, fmeasure=0.6136363636363635))}"
      ]
     },
     "execution_count": 12,
     "metadata": {},
     "output_type": "execute_result"
    }
   ],
   "source": [
    "rouge.compute(predictions = prediction_blinkmini_neg, references = references_blinkmini_neg)"
   ]
  },
  {
   "cell_type": "code",
   "execution_count": null,
   "metadata": {},
   "outputs": [],
   "source": []
  },
  {
   "cell_type": "markdown",
   "metadata": {},
   "source": [
    "## BinkVideo Positive"
   ]
  },
  {
   "cell_type": "code",
   "execution_count": 13,
   "metadata": {},
   "outputs": [],
   "source": [
    "references_blinkvideo_pos = [\"I bought this doorbell since it was less expensive than the ring one. I purchased a Sandisk GB USB drive, which works perfectly with the local storage. If this doorbell camera is anything like the outside cameras, I anticipate it to have good night vision. The phone app includes instructions for attaching the doorbell. I believe this is worth it for me because the video is of excellent quality and it connects to the other blink cameras. I still like using this system. There are external doors, and I never knew where people were when the old doorbell rang. When a video file is created, it appears for viewing, just like my other two blink cameras. Overall, I like it, and I can see when my goods arrive even when I'm not at home. works quite well and connects seamlessly with your Alexa You can choose which devices ring and watch the camera on both the Alexa display and your phone. This doorbell camera has exceeded my expectations. Keep in mind that the blinks camera system is required for integration. I wired mine for live viewing. When you add the ringer, it gets even better. It is quite simple to set up and install. I'm quite pleased with the entire system. This is a great security system; I previously had a ring, but this one is far superior. Very an excellent item, simple to install, and compatible with my other blink cameras and alexia. Aside from that, the connection is fantastic, and both day and evening viewing is excellent. The two-way communication is fantastic, as it is with my other blink cameras. This gadget also takes excellent motion pictures. I'm not happy because when I try to see the video or see who is at the front door, it's quite slow.\"]"
   ]
  },
  {
   "cell_type": "code",
   "execution_count": 14,
   "metadata": {},
   "outputs": [],
   "source": [
    "prediction_blinkvideo_pos = [\"i got this doorbell because its cheaper than the ring one. ordered a sandisk  gb usb drive and works wonderfully with the local storage.if this doorbell cam is anything like the outdoor cameras, i expect the night vision to be good. there are instructions in the phone app to assist in mounting the doorbell. absolutely great quality a video and links with the other blink cameras so i suppose this is worth it for me. update  i still love this system. there are  external doors and i never could tell where people were when i heard the old doorbell. once a video file is generated it comes up for viewing the same as my other two blink cameras. overall i love it and i am able to see when my packages come when im not home. works very well and integrates nicely into your alexa you can select what devices ring and view the camera on the alexa show as well as your phone. i am extremely satisfied with this doorbell camera. keep in mind you need blinks camera system to integrate. i wired mine so i have live view. add the ringer and its even greater. its very easy to set up and install. very happy with the whole system. this is an excellent security system i already had a ring and this one is much better   very nice unit, super easy to install and works with my other blink cameras and alexia. other then that, connection is awesome and day and evening viewing is great. the twoway talk is awesome, just like with my other blink cameras. this product also catches a picture of motion really good. i am not pleased that when i try view the video or see who is at the front door but it is very delayed.\"]"
   ]
  },
  {
   "cell_type": "code",
   "execution_count": 15,
   "metadata": {},
   "outputs": [
    {
     "data": {
      "text/plain": [
       "{'rouge1': AggregateScore(low=Score(precision=0.7105263157894737, recall=0.7058823529411765, fmeasure=0.7081967213114755), mid=Score(precision=0.7105263157894737, recall=0.7058823529411765, fmeasure=0.7081967213114755), high=Score(precision=0.7105263157894737, recall=0.7058823529411765, fmeasure=0.7081967213114755)),\n",
       " 'rouge2': AggregateScore(low=Score(precision=0.4158415841584158, recall=0.4131147540983607, fmeasure=0.4144736842105263), mid=Score(precision=0.4158415841584158, recall=0.4131147540983607, fmeasure=0.4144736842105263), high=Score(precision=0.4158415841584158, recall=0.4131147540983607, fmeasure=0.4144736842105263)),\n",
       " 'rougeL': AggregateScore(low=Score(precision=0.5921052631578947, recall=0.5882352941176471, fmeasure=0.5901639344262294), mid=Score(precision=0.5921052631578947, recall=0.5882352941176471, fmeasure=0.5901639344262294), high=Score(precision=0.5921052631578947, recall=0.5882352941176471, fmeasure=0.5901639344262294)),\n",
       " 'rougeLsum': AggregateScore(low=Score(precision=0.5921052631578947, recall=0.5882352941176471, fmeasure=0.5901639344262294), mid=Score(precision=0.5921052631578947, recall=0.5882352941176471, fmeasure=0.5901639344262294), high=Score(precision=0.5921052631578947, recall=0.5882352941176471, fmeasure=0.5901639344262294))}"
      ]
     },
     "execution_count": 15,
     "metadata": {},
     "output_type": "execute_result"
    }
   ],
   "source": [
    "rouge.compute(predictions = prediction_blinkvideo_pos, references = references_blinkvideo_pos)"
   ]
  },
  {
   "cell_type": "code",
   "execution_count": null,
   "metadata": {},
   "outputs": [],
   "source": []
  },
  {
   "cell_type": "markdown",
   "metadata": {},
   "source": [
    "## BlinkVideo Negative"
   ]
  },
  {
   "cell_type": "code",
   "execution_count": 16,
   "metadata": {},
   "outputs": [],
   "source": [
    "references_blinkvideo_neg = [\"I also had a problem with the mount and wasted an hour attempting to secure it. I was concerned that it would not function with my old doorbell's wired chime. Just something to think about if you don't have a blink gadget yet. The doorbell does its function. If you ever need to scan the code on the back of the doorbell, you'll have to remove it from the wall. When I tried it on my doorbell wire, it warned me that the voltage was too low. I know for a fact that even if the doorbell is connected, it will go dead in a matter of days. I'm not sure who the programming and doorbell-making genius is. As you might expect, Alexa integration works perfectly, so notifications and doorbell rings may be sent to your Alexa-enabled devices. Now for the bad news, as they say, you get what you pay for. I'm not sure what product design was thinking, but the backplate you have to push the gadget against is out of this world. This may appear to be a little detail, but the ring doorbell comes with a tiny level to ensure that your doorbell is not crooked. The one designed just for me may not be suitable for everyone. They were quite helpful and walked me through the wired doorbell app instructions. Aa batteries are required. They are sending me a sync module to assist extend the life of the doorbell battery. The infrared light appears to be reflected off the brick brightly enough to wipe out the picture, limiting its utility. The blink video camera system has a very pleased owner. It's similar to having a blind spot. I'm grateful I still have my initial security camera system to help me through these difficult times. I enjoy Blinks' other goods, so I was hoping this would work. One of the cameras requires a battery replacement every six weeks or so. Even if you link it to the existing doorbell wiring, the doorbell camera appears to be powered only by batteries. The video doorbell was significantly less expensive than others on the market, and it connects to the sync controller used by my other blink cameras within my home. I was scared it might snap because it was made of poor plastic. The doorbell was then linked to the previous system's existing wiring. You cannot record in live view without a subscription plan, which is an intentional disabling of the gadget and quite inconvenient given that we spent considerable money on the video doorbell hardware.\"]"
   ]
  },
  {
   "cell_type": "code",
   "execution_count": 17,
   "metadata": {},
   "outputs": [],
   "source": [
    "prediction_blinkvideo_neg = [\"i also had an issue with the mount and spent an hr trying to secure it on with no luck. i was worried that it would not work with my wired chime from the old doorbell. just things to keep in mind if you do not have a blink device yet.the doorbell does what it supposed to do. you will have to pull it off the wall if you ever have to scan the code on the back of the doorbell.i tested it on my doorbell wire and received a warning that the voltage was too low. i know for a fact that even wired the doorbell will go dead in  days.i do not know who the genius is on programming and making the doorbell work. as you would imagine alexa integration works fine as well, so alerts and door bell rings can be pushed to your alexa powered devices.now for the bad as i guess you get what you pay for. i do not know what product design was thinking but that backplate you have to press the device on to is something else. this may seem like a petty thing, but the ring doorbell comes with a tiny level to help you make sure your doorbell is not crooked. the one specific for me may not be for everyone. they were very helpful and lead me through the app instructions for a wired doorbell. aa battery is required.. they are sending me a sync module to help make the doorbell battery last longer. it appears the infrared light is reflected off the brick bright enough to wash out the image limiting it is usefulness. i have a very happy owner of the blink video camera system. its like having a blind spot.im glad i still have my first security camera system to cover these times. i really like blinks other products so i really wanted this to work. one of the cameras requires a battery change about every six weeks.i see that the doorbell camera is powered only by batteries even if you wire it to existing doorbell wiring. the cost of the video door bell was much less than others out there and links into the sync controller used by my other blink cameras inside my home. cheap plastic and afraid it would snap. then wired the doorbell to existing wiring of the old system. you cannot record in live view without paying for a subscription plan  which is intentional crippling of the device and super messed up when we have paid good money for the camera doorbell hardware.\"]"
   ]
  },
  {
   "cell_type": "code",
   "execution_count": 18,
   "metadata": {},
   "outputs": [
    {
     "data": {
      "text/plain": [
       "{'rouge1': AggregateScore(low=Score(precision=0.7465753424657534, recall=0.7465753424657534, fmeasure=0.7465753424657534), mid=Score(precision=0.7465753424657534, recall=0.7465753424657534, fmeasure=0.7465753424657534), high=Score(precision=0.7465753424657534, recall=0.7465753424657534, fmeasure=0.7465753424657534)),\n",
       " 'rouge2': AggregateScore(low=Score(precision=0.43707093821510296, recall=0.43707093821510296, fmeasure=0.43707093821510296), mid=Score(precision=0.43707093821510296, recall=0.43707093821510296, fmeasure=0.43707093821510296), high=Score(precision=0.43707093821510296, recall=0.43707093821510296, fmeasure=0.43707093821510296)),\n",
       " 'rougeL': AggregateScore(low=Score(precision=0.6118721461187214, recall=0.6118721461187214, fmeasure=0.6118721461187214), mid=Score(precision=0.6118721461187214, recall=0.6118721461187214, fmeasure=0.6118721461187214), high=Score(precision=0.6118721461187214, recall=0.6118721461187214, fmeasure=0.6118721461187214)),\n",
       " 'rougeLsum': AggregateScore(low=Score(precision=0.6118721461187214, recall=0.6118721461187214, fmeasure=0.6118721461187214), mid=Score(precision=0.6118721461187214, recall=0.6118721461187214, fmeasure=0.6118721461187214), high=Score(precision=0.6118721461187214, recall=0.6118721461187214, fmeasure=0.6118721461187214))}"
      ]
     },
     "execution_count": 18,
     "metadata": {},
     "output_type": "execute_result"
    }
   ],
   "source": [
    "rouge.compute(predictions = prediction_blinkvideo_neg, references = references_blinkvideo_neg)"
   ]
  },
  {
   "cell_type": "code",
   "execution_count": null,
   "metadata": {},
   "outputs": [],
   "source": []
  },
  {
   "cell_type": "markdown",
   "metadata": {},
   "source": [
    "## EchoShow Positive"
   ]
  },
  {
   "cell_type": "code",
   "execution_count": 19,
   "metadata": {},
   "outputs": [],
   "source": [
    "references_echoshow_pos =[\"I've had an echo show in my workplace for over a month and enjoy it. I also bought an echo, which will replace my echo dot in my kitchen, where there is less room, but this is about the echo. For starters, I am blown away by the sound quality. I wanted to acquire the show so my wife could look at recipes while cooking, but I wasn't sure whether she would enjoy it because she dislikes having a lot of clutter on her kitchen countertops. Given our experience with echo devices around our home, claiming that this is the most responsive gadget we own is significant. I chose art on my home screen and enjoy the gorgeous landscapes it has. The only issue I have is that the speaker is at the rear, thus it is louder in the back than in the front when gazing at the screen. The sound is excellent and somewhat powerful. I needed another gadget so that I could add one to my creative studio. This one item has replaced so many things in my bedroom. I purchased this product for the show and tell function because I am visually impaired. Everyone enjoys them, which is fantastic. I was amazed at the sound quality of a gadget of this small. The show's audio quality has greatly improved. My family and I own numerous Alexa items and thoroughly appreciate them all. I have the show and wanted to utilize it with my Ring doorbell. I adore my Echo Shows...so much so that I've ordered one for every family member can you keep a secret and Amazon will deliver them and keep me secure. My wife likes being able to see recipes on the bright screen, and the sound quality is superior to our second-generation echo. I enjoy viewing the screen information as well. I enjoy having her play music as I cook.\"]"
   ]
  },
  {
   "cell_type": "code",
   "execution_count": 20,
   "metadata": {},
   "outputs": [],
   "source": [
    "prediction_echoshow_pos =[\"i have had an echo show  for over a month in my work office and like it a great deal. i purchased an echo  as well, which will replace my echo dot in my kitchen where i have less space, but this is about the echo .i am absolutely amazed at the sound quality for starters. i wanted to get the show, so my wife could look at recipes while working in the kitchen, but was not sure if she would like it as she does not like a lot of clutter on the kitchen counters. for frame of reference we have about  echo devices throughout our house, so saying this es is the most responsive device we own does mean something. i choose art for my home screen and really love the beautiful scenes in the screen. only problem i have is that the speaker is in the back, so its louder towards the back than the front looking at the screen. the sound is very good and pretty loud. i wanted another device to be able to add one in my art studio. i have replaced so many things in my bedroom with this one device. i bought this product for the show and tell feature as i am vision challenged. everyone really likes them so that is great, too.i was especially impressed with the sound quality for the size of the device. the sound quality of the show is much better. my family and i have several of the alexa products and we really enjoy all of them. i have the show  and wanted the show  to use with my ring doorbell. i like my echo shows  very, very much...so much so that ive purchased one for a christmas gift for every family member can you keep a secret and amazon will deliver them and keep me safe. my wife loves the ability to see recipes on the bright screen and the sound is even better than our secondgeneration echo. i love seeing the screen info, too. i love having her play music while cooking. i did not think i needed one with a screen. great to have the echo with visual and touch screen.\"]"
   ]
  },
  {
   "cell_type": "code",
   "execution_count": 21,
   "metadata": {},
   "outputs": [
    {
     "data": {
      "text/plain": [
       "{'rouge1': AggregateScore(low=Score(precision=0.6378378378378379, recall=0.7306501547987616, fmeasure=0.6810966810966811), mid=Score(precision=0.6378378378378379, recall=0.7306501547987616, fmeasure=0.6810966810966811), high=Score(precision=0.6378378378378379, recall=0.7306501547987616, fmeasure=0.6810966810966811)),\n",
       " 'rouge2': AggregateScore(low=Score(precision=0.3956639566395664, recall=0.453416149068323, fmeasure=0.42257597684515197), mid=Score(precision=0.3956639566395664, recall=0.453416149068323, fmeasure=0.42257597684515197), high=Score(precision=0.3956639566395664, recall=0.453416149068323, fmeasure=0.42257597684515197)),\n",
       " 'rougeL': AggregateScore(low=Score(precision=0.5513513513513514, recall=0.631578947368421, fmeasure=0.5887445887445888), mid=Score(precision=0.5513513513513514, recall=0.631578947368421, fmeasure=0.5887445887445888), high=Score(precision=0.5513513513513514, recall=0.631578947368421, fmeasure=0.5887445887445888)),\n",
       " 'rougeLsum': AggregateScore(low=Score(precision=0.5513513513513514, recall=0.631578947368421, fmeasure=0.5887445887445888), mid=Score(precision=0.5513513513513514, recall=0.631578947368421, fmeasure=0.5887445887445888), high=Score(precision=0.5513513513513514, recall=0.631578947368421, fmeasure=0.5887445887445888))}"
      ]
     },
     "execution_count": 21,
     "metadata": {},
     "output_type": "execute_result"
    }
   ],
   "source": [
    "rouge.compute(predictions = prediction_echoshow_pos, references = references_echoshow_pos)"
   ]
  },
  {
   "cell_type": "code",
   "execution_count": null,
   "metadata": {},
   "outputs": [],
   "source": []
  },
  {
   "cell_type": "markdown",
   "metadata": {},
   "source": [
    "## EchoShow Negative"
   ]
  },
  {
   "cell_type": "code",
   "execution_count": 22,
   "metadata": {},
   "outputs": [],
   "source": [
    "references_echoshow_neg =[\"I truly like this device and am pleased with Alexa's talents. Anywhere else, I believe it would not be used enough to justify the expense. Also, I recommend that everyone look at the Google Nest Hub, Lenovo, and the rest of the Echo Show smart system. The bad news is that I'm not sure I want to keep it. I truly appreciate the show's enormous clock face, and it seems insane that I have no clock selections on the program. No, the mac address displayed does not correspond to my actual mac address; I modified it to avoid appearing foolish in public. I like how I can make a slideshow of family photos that play on the display while it's not in use. Alexa is a moron. I own echo dots rev, echos show and echo auto. I was concerned that the screen would be very small, as on the Echo Show, but it is the same size as our old, boxy show. I keep it in the kitchen to play music, and it works perfectly. I will also be withdrawing it from service. The microphones on the echo show are substantially less sensitive than those on the first echo show in terms of hardware. I need the motion detection notifications when I'm working in my shop. and I've disabled most of them. It is beneficial in some situations, but I usually use mine for the camera and media consumption. It is intelligent enough to distinguish many users in your home. It's so horrible that my wife and I say things simply to see what it'll do next. It's absolute garbage, and I adore all of my previous gadgets. You can go into settings and disable adverts for websites and news, which is convenient. When this was one of the advertised perks, the system was poorly conceived. a nice Alexa gadget that performs what it claims to do. I know it's not awful internet reception since I can get up from the living room, walk to my bedroom, and have the dot read to me or play music for me all day. The sound is excellent and gets loud. All of the music can be heard throughout my apartment. The major reason is that some of the portions contain videos that, of course, cannot be watched on the Echo Plus. Would rate if not for the slide show issue, about which I have called with Amazon help numerous times and they are working on it.\"]"
   ]
  },
  {
   "cell_type": "code",
   "execution_count": 23,
   "metadata": {},
   "outputs": [],
   "source": [
    "prediction_echoshow_neg = [\"i really do enjoy this device and am impressed at the abilities of alexa. anywhere else i feel it would not be put into use enough to be worth the cost.also, i advise everyone to take a look at the google nest hub, lenovo and the rest of the echo show smart system. the bad news is, do i really want to keep it  i really like the large clock face on the show and it seems ridiculous i have no clock options on the show. no, the mac address that i am showing does not match my actual mac address, i changed it, so as not to be stupid in a public showing. i love the fact that i can create a slideshow of family pictures that plays on the show when its not in use. alexa is just plain stupid, i own  echo dots rev  ,  echos show  and echo auto. i was worried the screen would be small like the echo show , but it is as large as our original, boxy show.i keep it in the kitchen to play music and it sounds fine. i will be removing it from service as well.on the hardware side of things, the microphones on the echo show  are much less sensitive than the original echo show. i need the motion sense alerts when i am out in my shop. and i have turned most of them off. in some cases it is useful, but i mostly use mine for the camera and media consumption.it is smart enough to recognize multiple users in your household. it is so bad that my wife and i say words just to see what it will do next  total junk, and i love all of my older devices. you can go into settings and turn off the advertisements for websites and news which is nice. its a  poorly designed system when this was one of the advertized features. a good alexa device that does what it says it will do.i do wish it had a native youtube app instead of forcing me to use the builtin silk browser. and i know it is not bad internet reception because i can get up from the living room, go to the bedroon and have the dot read to me or play music for me all day without a problem. the sound is perfect and gets super loud. i can hear all the music everywhere in my apt. the main being a few of the segments have videos that are not able to be seen on the echo plus of course. generally like would rate  if not for the issue with the slide show, about which i have spoken with amazon support several times and they are supposedly working on the issue.\"]"
   ]
  },
  {
   "cell_type": "code",
   "execution_count": 24,
   "metadata": {},
   "outputs": [
    {
     "data": {
      "text/plain": [
       "{'rouge1': AggregateScore(low=Score(precision=0.6901709401709402, recall=0.76, fmeasure=0.7234042553191489), mid=Score(precision=0.6901709401709402, recall=0.76, fmeasure=0.7234042553191489), high=Score(precision=0.6901709401709402, recall=0.76, fmeasure=0.7234042553191489)),\n",
       " 'rouge2': AggregateScore(low=Score(precision=0.44539614561027835, recall=0.49056603773584906, fmeasure=0.4668911335578002), mid=Score(precision=0.44539614561027835, recall=0.49056603773584906, fmeasure=0.4668911335578002), high=Score(precision=0.44539614561027835, recall=0.49056603773584906, fmeasure=0.4668911335578002)),\n",
       " 'rougeL': AggregateScore(low=Score(precision=0.6175213675213675, recall=0.68, fmeasure=0.6472564389697648), mid=Score(precision=0.6175213675213675, recall=0.68, fmeasure=0.6472564389697648), high=Score(precision=0.6175213675213675, recall=0.68, fmeasure=0.6472564389697648)),\n",
       " 'rougeLsum': AggregateScore(low=Score(precision=0.6175213675213675, recall=0.68, fmeasure=0.6472564389697648), mid=Score(precision=0.6175213675213675, recall=0.68, fmeasure=0.6472564389697648), high=Score(precision=0.6175213675213675, recall=0.68, fmeasure=0.6472564389697648))}"
      ]
     },
     "execution_count": 24,
     "metadata": {},
     "output_type": "execute_result"
    }
   ],
   "source": [
    "rouge.compute(predictions = prediction_echoshow_neg, references = references_echoshow_neg)"
   ]
  },
  {
   "cell_type": "code",
   "execution_count": null,
   "metadata": {},
   "outputs": [],
   "source": []
  },
  {
   "cell_type": "markdown",
   "metadata": {},
   "source": [
    "## McAfee Positive"
   ]
  },
  {
   "cell_type": "code",
   "execution_count": 25,
   "metadata": {},
   "outputs": [],
   "source": [
    "references_mcafee_pos =[\"When purchasing McAfee Total Protection, there are a few things to keep in mind. The pricing is lower than buying directly from McAfee. After installation, everything works perfectly! The product was simple to download and install! I will most certainly purchase this product again. It is a thumbs up wonderful product would not be without it like simple to install great pricing I have not required tech help so I am satisfied so far we like McAfee. You may either purchase it here for a fair price and enter the code minutes of your time max, or you can utilize the autorenewal in the company's product for a hefty fee. Not being a computer whiz, this was simple to install on my computer and works well for current virus protection on my new used machine. I've been using this product for years and it has lived up to its reputation. It is an excellent product that performs well. The price on the internet is substantially lower than the price at the large box retailers. The best version update!! I have not had to contact tech support, but I am pleased with the security and upgrades. nice virus prevention great product and reasonably priced I've always had McAfee and it's a wonderful product at a reasonable price. As always, the pricing and convenience of acquiring the product make this a fantastic buy. a decent product at a reasonable price berry user-friendly for those who are not computer savvy. This was a really simple product to use and install; I've been using it for years on both Mac and PC; I adore McAfee! All of my expectations were met, and what a terrific price. I bought a one-year subscription. It is the greatest option, I have reviewed it a lot and this is the finest option, it works amazing!\"]"
   ]
  },
  {
   "cell_type": "code",
   "execution_count": 26,
   "metadata": {},
   "outputs": [],
   "source": [
    "prediction_mcafee_pos = [\"there are  things you should be aware of when purchasing mcafee total protection . the price is better than buying from mcafee directly. works great after installation! product was easy to download and install! will definitely buy this product again. its a thumbs up   great product would not be without it   like   easy to install  great price  i have not needed tech support so i do not know  i am happy so far   we prefer mcafee. you can either buy this here at a reasonable price and type in the code  minutes of your time  max or you can use the autorenewal in the companys product for an exorbitant price. not computer savvy this was easy to set up on my computer works great for current virus protection on my new used computer   have used this product for yrs now and it has lived up to its reputation. it is a great product and does everything as advertised.the internet price is significantly cheaper that the big box stores. perfect upgrade to the  version!! i have not had to call tech support but i am happy with the protection and updates. great virus protection   great product and affordable. great product and price   ive always had mcafee. good   good deal   a great easy install as always   price and ease of getting the product. a good product at a good price. berry user friendly for someone who is not to computer savvy. this was a very easy product to use and install   been using it for many years on mac and pc   love mcafee! like   ok   meet all my expectations, and what a great value. i purchased s  yr subscription for . best thing for my microsoft computer   love it   it works great   it is the best option, i have reviewed a lot and this is the best option   works great!\"]"
   ]
  },
  {
   "cell_type": "code",
   "execution_count": 27,
   "metadata": {},
   "outputs": [
    {
     "data": {
      "text/plain": [
       "{'rouge1': AggregateScore(low=Score(precision=0.7166123778501629, recall=0.7006369426751592, fmeasure=0.7085346215780999), mid=Score(precision=0.7166123778501629, recall=0.7006369426751592, fmeasure=0.7085346215780999), high=Score(precision=0.7166123778501629, recall=0.7006369426751592, fmeasure=0.7085346215780999)),\n",
       " 'rouge2': AggregateScore(low=Score(precision=0.40522875816993464, recall=0.3961661341853035, fmeasure=0.40064620355411956), mid=Score(precision=0.40522875816993464, recall=0.3961661341853035, fmeasure=0.40064620355411956), high=Score(precision=0.40522875816993464, recall=0.3961661341853035, fmeasure=0.40064620355411956)),\n",
       " 'rougeL': AggregateScore(low=Score(precision=0.6123778501628665, recall=0.5987261146496815, fmeasure=0.605475040257649), mid=Score(precision=0.6123778501628665, recall=0.5987261146496815, fmeasure=0.605475040257649), high=Score(precision=0.6123778501628665, recall=0.5987261146496815, fmeasure=0.605475040257649)),\n",
       " 'rougeLsum': AggregateScore(low=Score(precision=0.6123778501628665, recall=0.5987261146496815, fmeasure=0.605475040257649), mid=Score(precision=0.6123778501628665, recall=0.5987261146496815, fmeasure=0.605475040257649), high=Score(precision=0.6123778501628665, recall=0.5987261146496815, fmeasure=0.605475040257649))}"
      ]
     },
     "execution_count": 27,
     "metadata": {},
     "output_type": "execute_result"
    }
   ],
   "source": [
    "rouge.compute(predictions = prediction_mcafee_pos, references = references_mcafee_pos)"
   ]
  },
  {
   "cell_type": "code",
   "execution_count": null,
   "metadata": {},
   "outputs": [],
   "source": []
  },
  {
   "cell_type": "markdown",
   "metadata": {},
   "source": [
    "## McAfee Negative"
   ]
  },
  {
   "cell_type": "code",
   "execution_count": 28,
   "metadata": {},
   "outputs": [],
   "source": [
    "references_mcafee_neg =[\"It opted to make Yahoo my default browser. I've owned the product for several months. The product code does not function, and before this review section, I had no method of informing anybody of my concern. I'll be looking for a new antivirus, and the software should allow me to disable any alerts that I don't want. I'm now using McAfee on my laptop because it was previously simple to install. I picked McAfee due to their years of experience and attempted for hours and hours to download and install. I started a conversation with tech support. McAfee was unable to assist me and I was sent to another department that was charging me money. Nothing product would not be installed on my machine. They felt as if Amazon had stolen them. I'd want to return this item from one of my current orders. I erased the computer that came with it since it kept the computer secure. I had the same thing but it expired, but I spent a lot more on it. I was unable to utilize it, thus it was a waste of my money. However, it occasionally crashed while my Windows update was being processed. I need to reinstall Windows and McAfee Total Security. I spotted the small Yahoo emblem in my search bar today. There have also been several complaints about the number that appeared on the McAfee website. Nobody knows why McAfee outsourced this, but it was a terrible error. Do not make a purchase. I would choose Norton if I had known before placing my order because I can have up to devices for the price, as opposed to this McAfee antivirus, which is only for devices. They want you to install a virus that will almost certainly harm your computer. The site will not allow you to download the application to your computer unless you sign up for an automatic reorder for the next year and provide them with your credit card information. This is a dodgy technique. However, you will be unable to register or activate this product unless you provide them with your credit card information, which they will use to automatically bill you when this year's product is about to expire.\"]"
   ]
  },
  {
   "cell_type": "code",
   "execution_count": 29,
   "metadata": {},
   "outputs": [],
   "source": [
    "prediction_mcafee_neg = [\"it decided to change my default browser to yahoo. i have had the product for  months. the product code does not work and until this review area i have had no way to let anyone know of my problem. i will be shopping for a different antivirus, the product should have a selection for me to turn off all notifications that i do not want. i am currently using mcafee on my laptop because, in the past, it was easy to install. i chose mcafee because of their years of trust   tried more than  hours and  tries to download and install. i started a chat with tech support. mcafee could not help me and was transferred to another department that was charging me money to help with installation. nothing   product would not download to my computer. they felt like was robbed by amazon. i what to return this item from my current orders i deleted the computer that went with it   keeps computer secure   had the same thing but it expired, only i paid way more for it. a waste of my money as i was unable to use it. but sometimes it was crashed when my windows  update processing.i have to reinstall windows and mcafee total protect. today i noticed the little yahoo icon in my search bar. the number which popped up on the mcafee site has numerous complaints as well.why mcafee outsourced this is anyones guess, but it is a huge mistake.do not purchase. te llega por mail el link para realizar la descarga del software de mcafee y de ah ya se instala con la key automticamente.compra realizada desde ecuador   be careful. i would go with norton if i would know earlier than i made an order because i can have up to  devices for the price of , rather than this mcafee antivirus only for  devices. they want you to install a virus that will all but kill your machine. the site will not let you down load the program to your computer until you sign a automatic reorder for next year and give them your credit card number.this type of practice is very shady. but you can not register or activate this product unless you give them your credit card information, which they will use to automatic bill you when this  year product will be close to expiration.\"]"
   ]
  },
  {
   "cell_type": "code",
   "execution_count": 30,
   "metadata": {},
   "outputs": [
    {
     "data": {
      "text/plain": [
       "{'rouge1': AggregateScore(low=Score(precision=0.678391959798995, recall=0.7142857142857143, fmeasure=0.6958762886597938), mid=Score(precision=0.678391959798995, recall=0.7142857142857143, fmeasure=0.6958762886597938), high=Score(precision=0.678391959798995, recall=0.7142857142857143, fmeasure=0.6958762886597938)),\n",
       " 'rouge2': AggregateScore(low=Score(precision=0.3778337531486146, recall=0.3978779840848806, fmeasure=0.3875968992248062), mid=Score(precision=0.3778337531486146, recall=0.3978779840848806, fmeasure=0.3875968992248062), high=Score(precision=0.3778337531486146, recall=0.3978779840848806, fmeasure=0.3875968992248062)),\n",
       " 'rougeL': AggregateScore(low=Score(precision=0.5778894472361809, recall=0.6084656084656085, fmeasure=0.5927835051546393), mid=Score(precision=0.5778894472361809, recall=0.6084656084656085, fmeasure=0.5927835051546393), high=Score(precision=0.5778894472361809, recall=0.6084656084656085, fmeasure=0.5927835051546393)),\n",
       " 'rougeLsum': AggregateScore(low=Score(precision=0.5778894472361809, recall=0.6084656084656085, fmeasure=0.5927835051546393), mid=Score(precision=0.5778894472361809, recall=0.6084656084656085, fmeasure=0.5927835051546393), high=Score(precision=0.5778894472361809, recall=0.6084656084656085, fmeasure=0.5927835051546393))}"
      ]
     },
     "execution_count": 30,
     "metadata": {},
     "output_type": "execute_result"
    }
   ],
   "source": [
    "rouge.compute(predictions = prediction_mcafee_neg, references = references_mcafee_neg)"
   ]
  },
  {
   "cell_type": "code",
   "execution_count": null,
   "metadata": {},
   "outputs": [],
   "source": []
  },
  {
   "cell_type": "markdown",
   "metadata": {},
   "source": [
    "## Nooie Baby Moniter Positive"
   ]
  },
  {
   "cell_type": "code",
   "execution_count": 31,
   "metadata": {},
   "outputs": [],
   "source": [
    "references_nooie_pos =[\"I purchased it because I want to ensure that my dog behaves properly while I am away. The software leads you through the setup, and the visual quality is excellent. I'm pleased with the image, and it works with the phone app. I'm impressed that we have two new cameras. I particularly appreciate the motion detection option since it moves the camera around when my dog travels around the room, although this feature is easily disabled. I like how it can record and take photographs. It's a great product, and I plan to buy many presents. The camera was excellent; the quality is excellent during the day, and the night vision is superior. I can even use the gadget to keep an eye on my dog because of the excellent vision and camera quality. The recording and playback capability is a useful extra. I bought this camera to keep an eye on my animals when I'm away. I'm looking forward to using it for my dogs while I'm away. This is an excellent camera at an excellent price. The visual quality is excellent and the setup is simple. Furthermore, the software has served us effectively. This is ideal for my twins! The night vision is excellent! The two-way audio is also an appealing feature. And the degree is quite beneficial if you select the ideal location for your nooie cam. I suggest it, and I frequently use it to communicate with my dog while at work. Excellent stuff, but nog support. It may be turned up and down in degrees. It's convenient to have someone babysit my infant when I'm not in the room with him. This one is wonderful for delivering motion warnings and monitoring movements. The app is dependable, and I'm excited to try their outside camera, which I'm sure will be just as amazing as this nooie.\"]"
   ]
  },
  {
   "cell_type": "code",
   "execution_count": 32,
   "metadata": {},
   "outputs": [],
   "source": [
    "prediction_nooie_pos = [\"i bought the  because i need to check whether my dog behaves well while im away. the setup is extremely easy the app walks you through it and the picture quality is great. i am happy with the picture and it works with the phone app. i am very impressed    we have two noovie  cameras. i also like the motion detection option because the camera moves around as my dog moves around the room but this feature can be easily turned off. i love that i can record and take pictures with it. it is a funuseful product and i intend to buy several for gifts   the camera was great the quality is really good during the day and also the night vision is better than expected. i can even use the  device to check in on my dog    very good with view and picture quality. the recording and playback feature is a nice addon. purchased this camera to keep an eye on my critters when i am out of town. i am excited to use it for my pets when i am away from home. this is a great camera at a great value. easy to set up and the picture quality is very good. plus the app has worked well for us. this thing is great for my twins! the night vision is nice and clear! the twoway audio is also a nice feature. and the  degree is very useful if you find the right spot to put your nooie cam.i totally recommend it, so i love to use it while i am at work to talk to my dog. very good product but not support g. it turn up and down also  degrees its very nice to watch my baby while i am not in the room with him. this one is fantastic on sending motion alerts and doing motion tracking.the app is very reliable and i am looking forward to try their outdoor camera, i am sure it is as good as this nooie .\"]"
   ]
  },
  {
   "cell_type": "code",
   "execution_count": 33,
   "metadata": {},
   "outputs": [
    {
     "data": {
      "text/plain": [
       "{'rouge1': AggregateScore(low=Score(precision=0.6529411764705882, recall=0.6915887850467289, fmeasure=0.6717095310136157), mid=Score(precision=0.6529411764705882, recall=0.6915887850467289, fmeasure=0.6717095310136157), high=Score(precision=0.6529411764705882, recall=0.6915887850467289, fmeasure=0.6717095310136157)),\n",
       " 'rouge2': AggregateScore(low=Score(precision=0.34513274336283184, recall=0.365625, fmeasure=0.3550834597875569), mid=Score(precision=0.34513274336283184, recall=0.365625, fmeasure=0.3550834597875569), high=Score(precision=0.34513274336283184, recall=0.365625, fmeasure=0.3550834597875569)),\n",
       " 'rougeL': AggregateScore(low=Score(precision=0.5470588235294118, recall=0.5794392523364486, fmeasure=0.5627836611195158), mid=Score(precision=0.5470588235294118, recall=0.5794392523364486, fmeasure=0.5627836611195158), high=Score(precision=0.5470588235294118, recall=0.5794392523364486, fmeasure=0.5627836611195158)),\n",
       " 'rougeLsum': AggregateScore(low=Score(precision=0.5470588235294118, recall=0.5794392523364486, fmeasure=0.5627836611195158), mid=Score(precision=0.5470588235294118, recall=0.5794392523364486, fmeasure=0.5627836611195158), high=Score(precision=0.5470588235294118, recall=0.5794392523364486, fmeasure=0.5627836611195158))}"
      ]
     },
     "execution_count": 33,
     "metadata": {},
     "output_type": "execute_result"
    }
   ],
   "source": [
    "rouge.compute(predictions = prediction_nooie_pos, references = references_nooie_pos)"
   ]
  },
  {
   "cell_type": "code",
   "execution_count": null,
   "metadata": {},
   "outputs": [],
   "source": []
  },
  {
   "cell_type": "markdown",
   "metadata": {},
   "source": [
    "## Nooie Baby Moniter Negative"
   ]
  },
  {
   "cell_type": "code",
   "execution_count": 35,
   "metadata": {},
   "outputs": [],
   "source": [
    "references_nooie_neg =[\"Let me begin by stating, Oh my gosh, this camera is fantastic!! I contacted the manufacturer using their customer support website. We intended to install this camera in our baby's nursery, which is separated from the router by a wall. I don't speak softly, thus the built-in speaker is a detriment to me. The puppy was watching the light turn on, which piqued her interest...also a nice function if you use it as a security camera, which we will when the dog grows up. I just bought it because it showed up in a search for a baby monitor; in reality, it is an inside security camera comparable to a ring but nowhere near as good. However, it sends a motion sensor alert to the television and the cat passing by. It's also useful to know when he's sleeping so I don't wake him up by opening the door. Everything else about this camera is excellent. I'll be ordering another one, and I'm also interested in their outdoor camera! For the short days, I had it, it was a fantastic camera. I've heard several issues concerning the installation procedure and security. I will update my review as needed. update I updated our internet to g, and now this item won't function since it only supports g. Customer service is a farce. You cannot get a better deal for the money. Push notifications on the phone are fantastic, and the nooie produces no noise while intelligently the following motion around. If there was one thing I would have changed, it would have come with more than one wall hanger component. The app indicates that the wifi quality on both of my cameras is fine, but it does not display the image. This camera is quite simple to set up. I'm not sure if it's the camera's problem, the app's issue, or if I'm just in a terrible reception area at the time I checked. To be honest, I'll have to sleep in the baby's room until a new camera arrives. It can detect the baby screaming in the presence of a white noise machine... and sends notifications to my phone and watch so I never miss one! I enjoy that I can talk to this camera.\"]"
   ]
  },
  {
   "cell_type": "code",
   "execution_count": 36,
   "metadata": {},
   "outputs": [],
   "source": [
    "prediction_nooie_neg = [\"ok let me just start out by saying oh my goodness is this camera amazing!! i reached out to the manufacturer via their customer service site. we planned to put this camera in our babys room which is  wall away from the router. i do not talk softly so the built in speaker is a negative for me. the puppy was seeing the light come on and that would gain her interest...also a great feature if you use it for a security camera, which we will when the puppy is grown. i only purchased it because it came up in the search for a baby monitor  it is in actuality, an indoor security camera similar to a ring but no where near as good. but it gives a motion sensor alert to the tv and the cat walking by. its also great to know when hes asleep so i dont open the door and wake him up. everything else is great about this camera. i will definately be getting another one and am looking at their outdoor camera as well! it is a great camera for these few days that i had it.i have seen some complaints about the setup process and security. i will update my review when appropriate.updatei upgraded our internet to g and now this thing will not work because it is only compatible with g. nooie customer service is a joke. for the money this costs you cannot get any better. push alerts on the phone are great, and the nooie makes no noise but follows motion around intelligently.if there was one thing i would have liked, it only came with one wall hanger piece. the app shows that both the wifi quality is good on both of my cameras but it will not actually show the picture. this camera is very easy to set up. not sure if that is the cameras fault, the app or if i am just in a bad reception area at the moment i checked. honestly, i will have to end up sleeping in the babys room until a new camera arrives. it can detect the baby crying in spite of the white noise machine going in the room... and sends notifications to my phone and watch so i never miss one! i like that i can communicate with this camera.\"]"
   ]
  },
  {
   "cell_type": "code",
   "execution_count": 37,
   "metadata": {},
   "outputs": [
    {
     "data": {
      "text/plain": [
       "{'rouge1': AggregateScore(low=Score(precision=0.6911392405063291, recall=0.6946564885496184, fmeasure=0.6928934010152284), mid=Score(precision=0.6911392405063291, recall=0.6946564885496184, fmeasure=0.6928934010152284), high=Score(precision=0.6911392405063291, recall=0.6946564885496184, fmeasure=0.6928934010152284)),\n",
       " 'rouge2': AggregateScore(low=Score(precision=0.4086294416243655, recall=0.4107142857142857, fmeasure=0.4096692111959287), mid=Score(precision=0.4086294416243655, recall=0.4107142857142857, fmeasure=0.4096692111959287), high=Score(precision=0.4086294416243655, recall=0.4107142857142857, fmeasure=0.4096692111959287)),\n",
       " 'rougeL': AggregateScore(low=Score(precision=0.6227848101265823, recall=0.6259541984732825, fmeasure=0.6243654822335024), mid=Score(precision=0.6227848101265823, recall=0.6259541984732825, fmeasure=0.6243654822335024), high=Score(precision=0.6227848101265823, recall=0.6259541984732825, fmeasure=0.6243654822335024)),\n",
       " 'rougeLsum': AggregateScore(low=Score(precision=0.6227848101265823, recall=0.6259541984732825, fmeasure=0.6243654822335024), mid=Score(precision=0.6227848101265823, recall=0.6259541984732825, fmeasure=0.6243654822335024), high=Score(precision=0.6227848101265823, recall=0.6259541984732825, fmeasure=0.6243654822335024))}"
      ]
     },
     "execution_count": 37,
     "metadata": {},
     "output_type": "execute_result"
    }
   ],
   "source": [
    "rouge.compute(predictions = prediction_nooie_neg, references = references_nooie_neg)"
   ]
  },
  {
   "cell_type": "code",
   "execution_count": null,
   "metadata": {},
   "outputs": [],
   "source": []
  },
  {
   "cell_type": "markdown",
   "metadata": {},
   "source": [
    "## Ring Spotlight Positive"
   ]
  },
  {
   "cell_type": "code",
   "execution_count": 38,
   "metadata": {},
   "outputs": [],
   "source": [
    "references_ring_pos =[\"I had no clue there was so much going on outside my front door! I've been able to view the image clearly and the video is typically clear. My major concern is how long the batteries will last. Like others, the volume on the camera needs to be louder; you can't hear it until you're next to it, but overall, we're pleased. I acquired it to safeguard my automobiles and the neighborhood mailbox. You may change the range of motion that the camera detects and tells you about. I enjoy the neighborhood aspects and am looking forward to seeing how this network develops. The rings app also works great with both cameras, letting me choose two distinct sounds for motion alerts so I know which camera is alerting. Both the camera and the solar panel are simple to set up. Because the spotlight is led, it is quite bright. The lighting is adequate but not overbearing. I gave it one star because of the client service. It was simple to set up and has appropriate lighting and an excellent camera. I wish the security light would stay on longer with a timer, but I love it, I love it, I adore this thing!! The cameras also include a space for a second battery, which I plan to purchase soon. I like it so much that I'm going to buy another video camera for the backyard. After only one day, I am happy with this product. I enjoy how this camera takes beautiful pictures. I didn't get much sun the day I placed it, but it still charged the battery everything about the camera itself is fantastic. The camera is precisely what I wanted, and the light is beautiful and bright, brightening up my entry area well. The greatest camera I've ever owned. Very simple to install and configure.\"]"
   ]
  },
  {
   "cell_type": "code",
   "execution_count": 39,
   "metadata": {},
   "outputs": [],
   "source": [
    "prediction_ring_pos = [\"i had no idea so much happens outside my front door! i have been able to see the image well and the video are usually pretty clear.my main issue is how long the batteries last. like others, the volume on the camera needs to be louder  you cannot hear unless standing right by it, but all in all we are happy. i got it to protect my cars and the community mailbox. you can adjust the range of motion the camera looks at and notifies about.i love the neighborhood features and am looking forward to more features and how this network will grow. rings app works really well with both cameras too allowing me to set two different sounds for motion alerts so i know which camera is alarming. both camera and solar panel are real easy to install. the spotlight is led so it is very bright. light is good but not overpowering. the customer service part is why i give it a one star. was easy to install and has  adequate lighting with a good camera. i wish that the security light would stay longer with a timer on it but i love it    i love it   i enjoy this item very much!! the cameras do have a slot to add a second battery too, which i will be purchasing soon. i love it so that i am purchasing another video camera for the backyard. so far im pleased with this product after one day. i like that this camera has a great pic. i did not have a lot of sun the day that i installed and it still charged the battery to    everything about the camera itself is amazing. great product..   camera is exactly what i needed the light is nice and bright it lights up my door area well. the best camera ive had so far. very easy installation and setup.\"]"
   ]
  },
  {
   "cell_type": "code",
   "execution_count": 40,
   "metadata": {},
   "outputs": [
    {
     "data": {
      "text/plain": [
       "{'rouge1': AggregateScore(low=Score(precision=0.6949685534591195, recall=0.7015873015873015, fmeasure=0.6982622432859399), mid=Score(precision=0.6949685534591195, recall=0.7015873015873015, fmeasure=0.6982622432859399), high=Score(precision=0.6949685534591195, recall=0.7015873015873015, fmeasure=0.6982622432859399)),\n",
       " 'rouge2': AggregateScore(low=Score(precision=0.4037854889589905, recall=0.40764331210191085, fmeasure=0.4057052297939778), mid=Score(precision=0.4037854889589905, recall=0.40764331210191085, fmeasure=0.4057052297939778), high=Score(precision=0.4037854889589905, recall=0.40764331210191085, fmeasure=0.4057052297939778)),\n",
       " 'rougeL': AggregateScore(low=Score(precision=0.6069182389937107, recall=0.6126984126984127, fmeasure=0.6097946287519747), mid=Score(precision=0.6069182389937107, recall=0.6126984126984127, fmeasure=0.6097946287519747), high=Score(precision=0.6069182389937107, recall=0.6126984126984127, fmeasure=0.6097946287519747)),\n",
       " 'rougeLsum': AggregateScore(low=Score(precision=0.6069182389937107, recall=0.6126984126984127, fmeasure=0.6097946287519747), mid=Score(precision=0.6069182389937107, recall=0.6126984126984127, fmeasure=0.6097946287519747), high=Score(precision=0.6069182389937107, recall=0.6126984126984127, fmeasure=0.6097946287519747))}"
      ]
     },
     "execution_count": 40,
     "metadata": {},
     "output_type": "execute_result"
    }
   ],
   "source": [
    "rouge.compute(predictions = prediction_ring_pos, references = references_ring_pos)"
   ]
  },
  {
   "cell_type": "code",
   "execution_count": null,
   "metadata": {},
   "outputs": [],
   "source": []
  },
  {
   "cell_type": "markdown",
   "metadata": {},
   "source": [
    "## Ring Spotlight Negative"
   ]
  },
  {
   "cell_type": "code",
   "execution_count": 41,
   "metadata": {},
   "outputs": [],
   "source": [
    "references_ring_neg =[\"I read a lot of reviews and almost didn't buy the camera because of them. We have a lot of deer, bunnies, and other animals in addition to our dogs, so our emotions are more frequent than in the usual home. In terms of video quality, these function well both at night and during the day. Overall, if you can install the wired camera, do it since you will be delighted with the camera's functions and video quality. I have high-speed spectrum internet with strong coverage across my home. I've stopped emailing and contacting Ring Tech Support since all they do is point the finger at those two items. I appreciate having a visible camera to dissuade intruders. I'm going to add two more around the house. I have Comcast gig internet, and the camera is less than ten feet away. You may, however, modify the detecting range, and once I repair it, it will identify you from further away. Furthermore, the ball mount appears to be rather fragile. This is not the camera for you if you want to record all the time. When I checked, it was frequently from the day prior, rendering the preview useless... aside from the fact that the views are not exhibiting current motion. We have Wyze cameras that we use indoors as puppy cams and love, but we wanted one to watch the outside of our house. Unfortunately, this was all it took for them to care about a consumer. They did not have the spare battery in stock at the time of purchase, so I had them install the camera with only one battery, and what a letdown. We appreciate this method and the information it provides. The camera quality is okay, but the primary issue for me is the camera's inability to tilt up, down, or sideways. WiFi indicates there is a bad connection, yet I still receive an excellent signal. I wanted greater coverage, and this camera captures the region where I required the most coverage, however it does not always function. Someone was at my front entrance, which is near to the router, and the camera never recorded anything. It's made of a lot of plastic, and after entering the battery and shutting the battery compartment, I didn't think this camera would withstand the weather, especially rain in a major storm.\"]"
   ]
  },
  {
   "cell_type": "code",
   "execution_count": 42,
   "metadata": {},
   "outputs": [],
   "source": [
    "prediction_ring_neg = [\"i read many of the reviews and almost did not purchase the camera because of them. we have a lot of deers, rabbits, etc in addition to our dog so our motions probably go off more than the average household.as far as video quality, these work well at night and in the day. all in all if you have a way to install the wired camera, go that route as you will be happier with the camera features and video quality. i have highspeed spectrum internet and good speed all over my property. ive stopped emailing and calling ring tech support because all they do is blame those two things.i like having a visible camera to deter unwanted individuals. i am adding two more around the house. i have comcast gig internet and the camera is no more  feet away. you can adjust the sensing range though, and after i fixed it, it will detect you from further out. also, the ball mount seems very weak. if you want a camera that records all the time this is not the camera. often when i looked it would be from the day before which makes the preview completely pointless.. besides the fact that the views are not showing live motion. we have wyze cams which we are extremely happy with that we use indoors as doggie cams, but we needed one to monitor the outside of our home. its a shame that this is what it took for them to care about a customer. at time of purchase they did not have the extra battery in stock so i had them put camera up with just one battery and what a  disappointment. we love this system and the information provided. camera quality is average, but the main problem for me is the very limited ability to tilt the camera up or down or sideways. wifi it says there poor connection but i still seem to get good feed. i needed more coverage and this camera captures the area i needed most coverage   sometimes does not work. there was someone at my front door where its close to the router and the camera never picked it up. it is a lot of plastic and after inserting the battery and closing the battery compartment i did not feel as this camera would stand up to the elements mostly rain in a heavy storm.\"]"
   ]
  },
  {
   "cell_type": "code",
   "execution_count": 43,
   "metadata": {},
   "outputs": [
    {
     "data": {
      "text/plain": [
       "{'rouge1': AggregateScore(low=Score(precision=0.6840796019900498, recall=0.6875, fmeasure=0.6857855361596009), mid=Score(precision=0.6840796019900498, recall=0.6875, fmeasure=0.6857855361596009), high=Score(precision=0.6840796019900498, recall=0.6875, fmeasure=0.6857855361596009)),\n",
       " 'rouge2': AggregateScore(low=Score(precision=0.4114713216957606, recall=0.41353383458646614, fmeasure=0.4125), mid=Score(precision=0.4114713216957606, recall=0.41353383458646614, fmeasure=0.4125), high=Score(precision=0.4114713216957606, recall=0.41353383458646614, fmeasure=0.4125)),\n",
       " 'rougeL': AggregateScore(low=Score(precision=0.5970149253731343, recall=0.6, fmeasure=0.598503740648379), mid=Score(precision=0.5970149253731343, recall=0.6, fmeasure=0.598503740648379), high=Score(precision=0.5970149253731343, recall=0.6, fmeasure=0.598503740648379)),\n",
       " 'rougeLsum': AggregateScore(low=Score(precision=0.5970149253731343, recall=0.6, fmeasure=0.598503740648379), mid=Score(precision=0.5970149253731343, recall=0.6, fmeasure=0.598503740648379), high=Score(precision=0.5970149253731343, recall=0.6, fmeasure=0.598503740648379))}"
      ]
     },
     "execution_count": 43,
     "metadata": {},
     "output_type": "execute_result"
    }
   ],
   "source": [
    "rouge.compute(predictions = prediction_ring_neg, references = references_ring_neg)"
   ]
  },
  {
   "cell_type": "code",
   "execution_count": null,
   "metadata": {},
   "outputs": [],
   "source": []
  }
 ],
 "metadata": {
  "kernelspec": {
   "display_name": "Python 3",
   "language": "python",
   "name": "python3"
  },
  "language_info": {
   "codemirror_mode": {
    "name": "ipython",
    "version": 3
   },
   "file_extension": ".py",
   "mimetype": "text/x-python",
   "name": "python",
   "nbconvert_exporter": "python",
   "pygments_lexer": "ipython3",
   "version": "3.8.5"
  }
 },
 "nbformat": 4,
 "nbformat_minor": 4
}
