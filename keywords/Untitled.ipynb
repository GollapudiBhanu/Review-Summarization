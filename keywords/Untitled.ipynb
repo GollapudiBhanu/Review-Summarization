{
  "nbformat": 4,
  "nbformat_minor": 0,
  "metadata": {
    "colab": {
      "name": "Untitled",
      "provenance": []
    },
    "kernelspec": {
      "name": "python3",
      "display_name": "Python 3"
    },
    "language_info": {
      "name": "python"
    }
  },
  "cells": [
    {
      "cell_type": "code",
      "execution_count": null,
      "metadata": {
        "id": "hz59C5kGUV2y"
      },
      "outputs": [],
      "source": [
        "\n",
        "import pandas as pd\n",
        "from keybert import KeyBERT\n",
        "import spacy\n",
        "from collections import Counter\n",
        "from string import punctuation\n",
        "\n",
        "def getTextList(fileName, column):\n",
        "    df = pd.read_csv(fileName)\n",
        "    return df[column]\n",
        "\n",
        "def getKeywords_keyBERT(text):\n",
        "    kw_model = KeyBERT()\n",
        "    keywords = kw_model.extract_keywords(text)\n",
        "    return keywords\n",
        "\n",
        "\n",
        "def getkeywords_Spacy(text):\n",
        "    nlp = spacy.load(\"en_core_web_sm\")\n",
        "\n",
        "    def get_hotwords(text):\n",
        "        result = []\n",
        "        pos_tag = ['PROPN', 'ADJ', 'NOUN']\n",
        "        doc = nlp(text.lower())\n",
        "        for token in doc:\n",
        "            if (token.text in nlp.Defaults.stop_words or token.text in punctuation):\n",
        "                continue\n",
        "            if (token.pos_ in pos_tag):\n",
        "                result.append(token.text)\n",
        "        return result\n",
        "\n",
        "    output = set(get_hotwords(text))\n",
        "    most_common_list = Counter(output).most_common(10)\n",
        "    return most_common_list\n",
        "\n",
        "def insertcolumn(fileName, column, data):\n",
        "    df = pd.read_csv(fileName)\n",
        "    df[column] = data\n",
        "    df.to_csv(fileName)\n",
        "\n",
        "if __name__ == '__main__':\n",
        "    files = [\"BlinkMini_cleansentiment.csv\", \"BlinkMiniSecurity_cleansentiment.csv\", \"BlinkVideoSecurity_cleansentiment.csv\", \"echo_show_cleansentiment.csv\", \"mcAf_cleansentiment.csv\", \"NooieBabyMonitor_cleansentiment.csv\", \"ringSpotLight_cleansentiment.csv\"]\n",
        "    for fileName in files:\n",
        "        reviews = getTextList(fileName, \"Total Description\")\n",
        "        keywords = list()\n",
        "        for i in range(reviews.size):\n",
        "            review = reviews.iloc[i]\n",
        "            if not isinstance(review, str) or len(review) == 0:\n",
        "                keywords.append([])\n",
        "                continue\n",
        "            keys2 = getkeywords_Spacy(review)\n",
        "            keywords.append([i[0] for i in keys2 if len(i[0])>2])\n",
        "            print(str(i) + \" done \")\n",
        "        insertcolumn(fileName, \"keywords\", keywords)\n",
        "        print(fileName + \" done \")\n",
        "\n"
      ]
    }
  ]
}