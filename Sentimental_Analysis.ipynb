{
  "nbformat": 4,
  "nbformat_minor": 0,
  "metadata": {
    "colab": {
      "name": "Sentimental Analysis.ipynb",
      "provenance": []
    },
    "kernelspec": {
      "name": "python3",
      "display_name": "Python 3"
    },
    "language_info": {
      "name": "python"
    }
  },
  "cells": [
    {
      "cell_type": "code",
      "execution_count": null,
      "metadata": {
        "id": "tDThEd2aNEMC"
      },
      "outputs": [],
      "source": [
        "def calculatesentiment(filepath):\n",
        "\n",
        "    df = pd.read_csv(filepath)\n",
        "    df.drop(columns = ['Unnamed: 0'], inplace=True)\n",
        "    df['Review Text'].replace(np.nan, '', inplace=True)\n",
        "    df['Review Title'].replace(np.nan, '', inplace=True)\n",
        "\n",
        "    df['Total Description'] = df['Review Text'] + df['Review Title']\n",
        "\n",
        "    reviewDescription_list = df['Total Description'].values.tolist()\n",
        "  \n",
        "\n",
        "    reviewdescription_tuple = calucalteSentiscores(reviewDescription_list)\n",
        "    df['ReviewDescription_score'] = reviewdescription_tuple[0]\n",
        "    df['ReviewDescription_Sentiment'] = reviewdescription_tuple[1]\n",
        "\n",
        "    print(\"I am ready\")\n",
        "    fileName = getFileName(filepath)\n",
        "    df.to_csv('/content/sample_data/'+ fileName + 'sentiment.csv')\n",
        "\n",
        "def converttovalues(sentilist):\n",
        "  label = ''\n",
        "  score = ''\n",
        "  for sentidict in sentilist:\n",
        "    label = sentidict['label']\n",
        "    score = sentidict['score']\n",
        "  return label, score\n",
        "\n",
        "\n",
        "def getFileName(filepath):\n",
        "  fileName = filepath.split(\"/\")[-1]\n",
        "  filename = fileName.split('.')\n",
        "  return filename[0]\n",
        "\n",
        "def splitText(combinedString):\n",
        "  return ' '.join((combinedString.split())[:210])\n",
        "\n",
        "def isFileExists(csvFile):\n",
        "  return path.exists('/content/gdrive/MyDrive/SoftwareAdviceSentiment/'+csvFile)\n",
        "\n",
        "def calucalteSentiscores(combinedStringList):\n",
        "  sentiment_score = []\n",
        "  sentiment_label = []\n",
        "  for combinedString in combinedStringList:\n",
        "    updatedString = splitText(combinedString)\n",
        "    senti = classifier(updatedString)\n",
        "    label,senti = converttovalues(senti)\n",
        "    sentiment_score.append(senti)\n",
        "    sentiment_label.append(label)\n",
        "  return sentiment_score, sentiment_label"
      ]
    },
    {
      "cell_type": "code",
      "source": [
        "calculatesentiment('/content/sample_data/NooieBabyMonitor_clean.csv')"
      ],
      "metadata": {
        "id": "wiWJKhFMNMTI"
      },
      "execution_count": null,
      "outputs": []
    },
    {
      "cell_type": "code",
      "source": [
        "calculatesentiment('/content/sample_data/mcAf_clean.csv')"
      ],
      "metadata": {
        "id": "lzvyDWzBNOt-"
      },
      "execution_count": null,
      "outputs": []
    },
    {
      "cell_type": "code",
      "source": [
        "calculatesentiment('/content/sample_data/echo_show_clean.csv')"
      ],
      "metadata": {
        "id": "VdFpO7WCNQAq"
      },
      "execution_count": null,
      "outputs": []
    },
    {
      "cell_type": "code",
      "source": [
        "calculatesentiment('/content/sample_data/ringSpotLight_clean.csv') "
      ],
      "metadata": {
        "id": "-ms7aPjDNRFe"
      },
      "execution_count": null,
      "outputs": []
    }
  ]
}